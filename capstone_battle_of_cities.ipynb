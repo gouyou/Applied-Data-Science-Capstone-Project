{
 "cells": [
  {
   "cell_type": "markdown",
   "metadata": {
    "collapsed": true,
    "pycharm": {
     "name": "#%% md\n"
    }
   },
   "source": [
    "# The battle of cities"
   ]
  },
  {
   "cell_type": "markdown",
   "source": [
    "## Introduction\n",
    "\n",
    "> Where you discuss the business problem and who would be interested in this project.\n",
    "\n",
    "The idea is to take a look at the multiple factors influencing the GDP of different cities.\n",
    "\n",
    "This will help local political leaders look at which factors influence the economic product of their city."
   ],
   "metadata": {
    "collapsed": false,
    "pycharm": {
     "name": "#%% md\n"
    }
   }
  },
  {
   "cell_type": "markdown",
   "source": [
    "## Data\n",
    "\n",
    "> Where you describe the data that will be used to solve the problem and the source of the data.\n",
    "\n",
    "A diverse set of data will be used to look at the\n",
    "\n",
    "### Crime\n",
    "\n",
    "- [Crime rate](https://en.wikipedia.org/wiki/List_of_United_States_cities_by_crime_rate)\n",
    "\n",
    "### Demographic\n",
    "\n",
    "- [Population](https://en.wikipedia.org/wiki/List_of_United_States_cities_by_population)\n",
    "- [Immigration](https://en.wikipedia.org/wiki/List_of_United_States_cities_by_foreign-born_population)\n",
    "\n",
    "### Geographic\n",
    "\n",
    "- [Area]((https://en.wikipedia.org/wiki/List_of_United_States_cities_by_area))\n",
    "- [Elevation](https://en.wikipedia.org/wiki/List_of_cities_in_the_United_States_by_elevation)\n",
    "\n",
    "### Economic\n",
    "\n",
    "- Mix of business (i.e. the foursquare data).\n",
    "- [GDP](https://en.wikipedia.org/wiki/List_of_cities_or_metropolitan_areas_by_GDP)\n",
    "- [Income](https://en.wikipedia.org/wiki/List_of_United_States_counties_by_per_capita_income)\n",
    "  (multi-counties city will be [merged](https://en.wikipedia.org/wiki/List_of_U.S._municipalities_in_multiple_counties)) \n",
    "\n",
    "### Historical\n",
    "\n",
    "- [Foundation year](https://en.wikipedia.org/wiki/List_of_cities_in_the_Americas_by_year_of_foundation)\n",
    "\n",
    "### Political\n",
    "\n",
    "- [Capitals](https://en.wikipedia.org/wiki/List_of_capitals_in_the_United_States)\n",
    "- [Mayor, Budget, Government Type](https://ballotpedia.org/List_of_current_mayors_of_the_top_100_cities_in_the_United_States)\n",
    "\n",
    "### Weather\n",
    "\n",
    "- [Temperature](https://en.wikipedia.org/wiki/List_of_cities_by_average_temperature).\n",
    "- [Sunshine Hours](https://en.wikipedia.org/wiki/List_of_cities_by_sunshine_duration)\n",
    "\n"
   ],
   "metadata": {
    "collapsed": false,
    "pycharm": {
     "name": "#%% md\n"
    }
   }
  },
  {
   "cell_type": "markdown",
   "source": [
    "## Methodology\n",
    "\n",
    "> section which represents the main component of the report where you discuss and describe any exploratory data analysis\n",
    "> that you did, any inferential statistical testing that you performed, if any, and what machine learnings were used and\n",
    "> why."
   ],
   "metadata": {
    "collapsed": false
   }
  },
  {
   "cell_type": "markdown",
   "source": [
    "## Results\n",
    "\n",
    "> Section where you discuss the results."
   ],
   "metadata": {
    "collapsed": false
   }
  },
  {
   "cell_type": "markdown",
   "source": [
    "## Discussion\n",
    "\n",
    "> Section where you discuss any observations you noted and any recommendations you can make based on the results."
   ],
   "metadata": {
    "collapsed": false
   }
  },
  {
   "cell_type": "markdown",
   "source": [
    "## Conclusion\n",
    "\n",
    "> Section where you conclude the report.\n"
   ],
   "metadata": {
    "collapsed": false
   }
  }
 ],
 "metadata": {
  "kernelspec": {
   "display_name": "${KERNEL_SPEC_DISPLAY_NAME}",
   "language": "${KERNEL_SPEC_LANGUAGE}",
   "name": "${KERNEL_SPEC_NAME}"
  },
  "language_info": {
   "codemirror_mode": {
    "name": "ipython",
    "version": 2
   },
   "file_extension": ".py",
   "mimetype": "text/x-python",
   "name": "python",
   "nbconvert_exporter": "python",
   "pygments_lexer": "ipython2",
   "version": "2.7.6"
  },
  "pycharm": {
   "stem_cell": {
    "cell_type": "raw",
    "source": [],
    "metadata": {
     "collapsed": false
    }
   }
  }
 },
 "nbformat": 4,
 "nbformat_minor": 0
}